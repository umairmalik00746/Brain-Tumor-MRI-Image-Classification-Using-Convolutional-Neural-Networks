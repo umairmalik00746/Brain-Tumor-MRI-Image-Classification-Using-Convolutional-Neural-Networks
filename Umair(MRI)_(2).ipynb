{
  "nbformat": 4,
  "nbformat_minor": 0,
  "metadata": {
    "colab": {
      "provenance": [],
      "machine_shape": "hm"
    },
    "kernelspec": {
      "name": "python3",
      "display_name": "Python 3"
    },
    "language_info": {
      "name": "python"
    }
  },
  "cells": [
    {
      "cell_type": "code",
      "source": [
        "from google.colab import drive\n",
        "drive.mount('/content/drive')"
      ],
      "metadata": {
        "colab": {
          "base_uri": "https://localhost:8080/"
        },
        "id": "bYlDlgYoZJrj",
        "outputId": "721e6663-1d8b-4e67-e3e4-dbf3a6d0984e"
      },
      "execution_count": null,
      "outputs": [
        {
          "output_type": "stream",
          "name": "stdout",
          "text": [
            "Mounted at /content/drive\n"
          ]
        }
      ]
    },
    {
      "cell_type": "code",
      "source": [
        "import os\n",
        "import matplotlib.pyplot as plt\n",
        "import matplotlib.image as mpimg\n",
        "from PIL import Image\n",
        "import numpy as np\n",
        "import seaborn as sns\n",
        "import pandas as pd"
      ],
      "metadata": {
        "id": "Muws6s25tQWo"
      },
      "execution_count": null,
      "outputs": []
    },
    {
      "cell_type": "code",
      "source": [
        "# Define the paths\n",
        "training_path = '/content/drive/MyDrive/Brain Tumor MRI Dataset/Training'\n",
        "testing_path = '/content/drive/MyDrive/Brain Tumor MRI Dataset/Testing'\n",
        "\n",
        "# Classes\n",
        "classes = ['glioma', 'meningioma', 'notumor', 'pituitary']"
      ],
      "metadata": {
        "id": "-tvvWeYLvPMP"
      },
      "execution_count": null,
      "outputs": []
    },
    {
      "cell_type": "code",
      "source": [
        "# Function to count images in each class\n",
        "def count_images_in_classes(base_path, classes):\n",
        "    counts = {}\n",
        "    for cls in classes:\n",
        "        class_path = os.path.join(base_path, cls)\n",
        "        counts[cls] = len(os.listdir(class_path))\n",
        "    return counts\n",
        "\n"
      ],
      "metadata": {
        "id": "gPAi9rH8vSHP"
      },
      "execution_count": null,
      "outputs": []
    },
    {
      "cell_type": "markdown",
      "source": [
        "# Count images in training and testing sets"
      ],
      "metadata": {
        "id": "fvqns60uvej2"
      }
    },
    {
      "cell_type": "code",
      "source": [
        "training_counts = count_images_in_classes(training_path, classes)"
      ],
      "metadata": {
        "id": "mpxbrnzTvg6H"
      },
      "execution_count": null,
      "outputs": []
    },
    {
      "cell_type": "code",
      "source": [
        "testing_counts = count_images_in_classes(testing_path, classes)"
      ],
      "metadata": {
        "id": "LNpw9rgovcof"
      },
      "execution_count": null,
      "outputs": []
    },
    {
      "cell_type": "code",
      "source": [
        "print(\"Training set image counts:\", training_counts)\n"
      ],
      "metadata": {
        "colab": {
          "base_uri": "https://localhost:8080/"
        },
        "id": "cBLxmvE3wRBg",
        "outputId": "3814aebf-e2b5-4fd3-fdf8-706b330ff199"
      },
      "execution_count": null,
      "outputs": [
        {
          "output_type": "stream",
          "name": "stdout",
          "text": [
            "Training set image counts: {'glioma': 1321, 'meningioma': 1339, 'notumor': 1595, 'pituitary': 1457}\n"
          ]
        }
      ]
    },
    {
      "cell_type": "code",
      "source": [
        "print(\"Testing set image counts:\", testing_counts)"
      ],
      "metadata": {
        "colab": {
          "base_uri": "https://localhost:8080/"
        },
        "id": "orour24vwTxu",
        "outputId": "65a63210-e476-4a74-9364-cba3a40e01b6"
      },
      "execution_count": null,
      "outputs": [
        {
          "output_type": "stream",
          "name": "stdout",
          "text": [
            "Testing set image counts: {'glioma': 300, 'meningioma': 306, 'notumor': 405, 'pituitary': 300}\n"
          ]
        }
      ]
    }
  ]
}